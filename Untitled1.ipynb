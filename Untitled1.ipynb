{
  "nbformat": 4,
  "nbformat_minor": 0,
  "metadata": {
    "colab": {
      "provenance": [],
      "authorship_tag": "ABX9TyOWmaifj2y4Nf53SjKf3EFp",
      "include_colab_link": true
    },
    "kernelspec": {
      "name": "python3",
      "display_name": "Python 3"
    },
    "language_info": {
      "name": "python"
    }
  },
  "cells": [
    {
      "cell_type": "markdown",
      "metadata": {
        "id": "view-in-github",
        "colab_type": "text"
      },
      "source": [
        "<a href=\"https://colab.research.google.com/github/ABDELLAH070707/-prevision-des-ventes/blob/main/Untitled1.ipynb\" target=\"_parent\"><img src=\"https://colab.research.google.com/assets/colab-badge.svg\" alt=\"Open In Colab\"/></a>"
      ]
    },
    {
      "cell_type": "code",
      "execution_count": 1,
      "metadata": {
        "id": "rYylG8K4meoe"
      },
      "outputs": [],
      "source": [
        "import pandas as pd\n",
        "from sklearn.decomposition import PCA\n",
        "from sklearn.preprocessing import StandardScaler\n",
        "import matplotlib.pyplot as plt"
      ]
    },
    {
      "cell_type": "code",
      "source": [
        "# Création des données du tableau\n",
        "data = {\n",
        "    \"Nom\": [\"Chirine\", \"Rayan\", \"Jad\", \"Lamia\", \"Jamal\", \"Mehdi\", \"Faris\", \"Anas\", \"Mariem\"],\n",
        "    \"Math\": [6, 8, 6, 14.5, 14, 11, 5.5, 13, 9],\n",
        "    \"PC\": [6, 8, 7, 14.5, 14, 10, 7, 12.5, 9.5],\n",
        "    \"Fr\": [5, 8, 11, 15.5, 12, 5.5, 14, 8.5, 12.5],\n",
        "    \"An\": [5.5, 8, 9.5, 15, 12, 7, 11.5, 9.5, 12],\n",
        "    \"Mu\": [8, 9, 11, 8, 10, 13, 10, 12, 18]\n",
        "}"
      ],
      "metadata": {
        "id": "r_UvvK38m9xE"
      },
      "execution_count": 11,
      "outputs": []
    },
    {
      "cell_type": "code",
      "source": [
        "# Création du DataFrame\n",
        "df = pd.DataFrame(data)"
      ],
      "metadata": {
        "id": "Hk1Pw8NznLhN"
      },
      "execution_count": 13,
      "outputs": []
    },
    {
      "cell_type": "code",
      "source": [
        "# Séparation des noms et des données numériques\n",
        "noms = df['Nom']\n",
        "X = df.drop(columns=['Nom'])\n"
      ],
      "metadata": {
        "id": "VQLu16cZnOrc"
      },
      "execution_count": 14,
      "outputs": []
    },
    {
      "cell_type": "code",
      "source": [
        "# Standardisation des données\n",
        "scaler = StandardScaler()\n",
        "X_scaled = scaler.fit_transform(X)"
      ],
      "metadata": {
        "id": "ferRR29-nUj7"
      },
      "execution_count": 15,
      "outputs": []
    },
    {
      "cell_type": "code",
      "source": [
        "# Application de l'ACP\n",
        "pca = PCA(n_components=2)  # Nous réduisons à 2 composantes pour visualisation\n",
        "X_pca = pca.fit_transform(X_scaled)"
      ],
      "metadata": {
        "id": "p5XqNQCQnZAw"
      },
      "execution_count": 16,
      "outputs": []
    },
    {
      "cell_type": "code",
      "source": [
        "# Création du DataFrame avec les résultats de l'ACP\n",
        "df_pca = pd.DataFrame(data=X_pca, columns=['PC1', 'PC2'])\n",
        "df_pca['Nom'] = noms"
      ],
      "metadata": {
        "id": "wNDe1TA6ndnz"
      },
      "execution_count": 17,
      "outputs": []
    },
    {
      "cell_type": "code",
      "source": [
        "# Affichage des résultats de l'ACP\n",
        "print(df_pca)"
      ],
      "metadata": {
        "colab": {
          "base_uri": "https://localhost:8080/"
        },
        "id": "2eCv9Jz3nimC",
        "outputId": "c5e8183c-dde4-4985-a538-440f052bf396"
      },
      "execution_count": 18,
      "outputs": [
        {
          "output_type": "stream",
          "name": "stdout",
          "text": [
            "        PC1       PC2      Nom\n",
            "0 -2.785716 -0.676455  Chirine\n",
            "1 -1.262490 -0.330338    Rayan\n",
            "2 -1.016747  1.019829      Jad\n",
            "3  3.122145 -0.165843    Lamia\n",
            "4  1.955100 -0.787905    Jamal\n",
            "5 -0.947752 -1.201405    Mehdi\n",
            "6 -0.324968  1.754739    Faris\n",
            "7  0.637341 -1.129857     Anas\n",
            "8  0.623086  1.517236   Mariem\n"
          ]
        }
      ]
    },
    {
      "cell_type": "code",
      "source": [
        "# Visualisation des résultats de l'ACP\n",
        "plt.figure(figsize=(10, 7))\n",
        "plt.scatter(df_pca['PC1'], df_pca['PC2'])"
      ],
      "metadata": {
        "colab": {
          "base_uri": "https://localhost:8080/",
          "height": 616
        },
        "id": "Yl_32fzknuE6",
        "outputId": "bd6e4019-da58-40d8-832f-72e636102fcc"
      },
      "execution_count": 19,
      "outputs": [
        {
          "output_type": "execute_result",
          "data": {
            "text/plain": [
              "<matplotlib.collections.PathCollection at 0x7e20a2371ea0>"
            ]
          },
          "metadata": {},
          "execution_count": 19
        },
        {
          "output_type": "display_data",
          "data": {
            "text/plain": [
              "<Figure size 1000x700 with 1 Axes>"
            ],
            "image/png": "[encoded data removed]"
          },
          "metadata": {}
        }
      ]
    },
    {
      "cell_type": "code",
      "source": [],
      "metadata": {
        "id": "5SepSLEkpqtN"
      },
      "execution_count": null,
      "outputs": []
    }
  ]
}